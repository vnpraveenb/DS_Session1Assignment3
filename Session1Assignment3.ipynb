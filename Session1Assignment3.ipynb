{
 "cells": [
  {
   "cell_type": "code",
   "execution_count": 9,
   "metadata": {},
   "outputs": [
    {
     "name": "stdout",
     "output_type": "stream",
     "text": [
      "Input your first name: Praveen\n",
      "Input your last name: Balijepalli\n",
      "Your name is: Praveen Balijepalli \n",
      "Reverse order of your name is: Balijepalli Praveen\n"
     ]
    }
   ],
   "source": [
    "#Write a Python program to accept the user's first and last name and then getting them printed in \n",
    "#the reverse order with a space between first name and last name.\n",
    "firstname = input(\"Input your first name: \")\n",
    "lastname = input(\"Input your last name: \")\n",
    "print(\"Your name is: {} {} \".format(firstname, lastname))\n",
    "print(\"Reverse order of your name is: {} {}\".format(lastname, firstname))"
   ]
  },
  {
   "cell_type": "code",
   "execution_count": null,
   "metadata": {},
   "outputs": [],
   "source": []
  }
 ],
 "metadata": {
  "kernelspec": {
   "display_name": "Python 3",
   "language": "python",
   "name": "python3"
  },
  "language_info": {
   "codemirror_mode": {
    "name": "ipython",
    "version": 3
   },
   "file_extension": ".py",
   "mimetype": "text/x-python",
   "name": "python",
   "nbconvert_exporter": "python",
   "pygments_lexer": "ipython3",
   "version": "3.6.4"
  }
 },
 "nbformat": 4,
 "nbformat_minor": 2
}
